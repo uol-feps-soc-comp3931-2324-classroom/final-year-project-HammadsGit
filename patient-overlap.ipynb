{
 "cells": [
  {
   "cell_type": "code",
   "execution_count": 1,
   "id": "initial_id",
   "metadata": {
    "collapsed": true,
    "ExecuteTime": {
     "end_time": "2024-02-16T20:08:29.681557Z",
     "start_time": "2024-02-16T20:08:29.654275Z"
    }
   },
   "outputs": [],
   "source": [
    "# Import necessary packages\n",
    "import pandas as pd\n",
    "import numpy as np\n",
    "import matplotlib.pyplot as plt\n",
    "%matplotlib inline\n",
    "import os\n",
    "import seaborn as sns\n",
    "sns.set()"
   ]
  },
  {
   "cell_type": "code",
   "outputs": [
    {
     "data": {
      "text/plain": "        Image Index      Finding Labels  Follow-up #  Patient ID  Patient Age  \\\n0  00000246_017.png        Infiltration           17         246           51   \n1  00000246_018.png          No Finding           18         246           44   \n2  00000246_019.png          No Finding           19         246           45   \n3  00000247_000.png  Pleural_Thickening            0         247           43   \n4  00000248_000.png      Emphysema|Mass            0         248           87   \n\n  Patient Gender View Position  OriginalImage[Width  Height]  \\\n0              M            PA                 3056     2544   \n1              M            PA                 2992     2991   \n2              M            PA                 2500     2048   \n3              M            PA                 2500     2048   \n4              M            PA                 2992     2991   \n\n   OriginalImagePixelSpacing[x     y]  Unnamed: 11  \n0                        0.139  0.139          NaN  \n1                        0.143  0.143          NaN  \n2                        0.168  0.168          NaN  \n3                        0.171  0.171          NaN  \n4                        0.143  0.143          NaN  ",
      "text/html": "<div>\n<style scoped>\n    .dataframe tbody tr th:only-of-type {\n        vertical-align: middle;\n    }\n\n    .dataframe tbody tr th {\n        vertical-align: top;\n    }\n\n    .dataframe thead th {\n        text-align: right;\n    }\n</style>\n<table border=\"1\" class=\"dataframe\">\n  <thead>\n    <tr style=\"text-align: right;\">\n      <th></th>\n      <th>Image Index</th>\n      <th>Finding Labels</th>\n      <th>Follow-up #</th>\n      <th>Patient ID</th>\n      <th>Patient Age</th>\n      <th>Patient Gender</th>\n      <th>View Position</th>\n      <th>OriginalImage[Width</th>\n      <th>Height]</th>\n      <th>OriginalImagePixelSpacing[x</th>\n      <th>y]</th>\n      <th>Unnamed: 11</th>\n    </tr>\n  </thead>\n  <tbody>\n    <tr>\n      <th>0</th>\n      <td>00000246_017.png</td>\n      <td>Infiltration</td>\n      <td>17</td>\n      <td>246</td>\n      <td>51</td>\n      <td>M</td>\n      <td>PA</td>\n      <td>3056</td>\n      <td>2544</td>\n      <td>0.139</td>\n      <td>0.139</td>\n      <td>NaN</td>\n    </tr>\n    <tr>\n      <th>1</th>\n      <td>00000246_018.png</td>\n      <td>No Finding</td>\n      <td>18</td>\n      <td>246</td>\n      <td>44</td>\n      <td>M</td>\n      <td>PA</td>\n      <td>2992</td>\n      <td>2991</td>\n      <td>0.143</td>\n      <td>0.143</td>\n      <td>NaN</td>\n    </tr>\n    <tr>\n      <th>2</th>\n      <td>00000246_019.png</td>\n      <td>No Finding</td>\n      <td>19</td>\n      <td>246</td>\n      <td>45</td>\n      <td>M</td>\n      <td>PA</td>\n      <td>2500</td>\n      <td>2048</td>\n      <td>0.168</td>\n      <td>0.168</td>\n      <td>NaN</td>\n    </tr>\n    <tr>\n      <th>3</th>\n      <td>00000247_000.png</td>\n      <td>Pleural_Thickening</td>\n      <td>0</td>\n      <td>247</td>\n      <td>43</td>\n      <td>M</td>\n      <td>PA</td>\n      <td>2500</td>\n      <td>2048</td>\n      <td>0.171</td>\n      <td>0.171</td>\n      <td>NaN</td>\n    </tr>\n    <tr>\n      <th>4</th>\n      <td>00000248_000.png</td>\n      <td>Emphysema|Mass</td>\n      <td>0</td>\n      <td>248</td>\n      <td>87</td>\n      <td>M</td>\n      <td>PA</td>\n      <td>2992</td>\n      <td>2991</td>\n      <td>0.143</td>\n      <td>0.143</td>\n      <td>NaN</td>\n    </tr>\n  </tbody>\n</table>\n</div>"
     },
     "execution_count": 131,
     "metadata": {},
     "output_type": "execute_result"
    }
   ],
   "source": [
    "file_name = \"Data_Entry_2017.csv\"\n",
    "# split the files into a small train set and validation set, using Nrows \n",
    "nRowsRead = 1000\n",
    "# Load the first 1000 rows for training data\n",
    "train_df = pd.read_csv('./archive/{}'.format(file_name),nrows = nRowsRead)\n",
    "\n",
    "\n",
    "valid_df = pd.read_csv('./archive/{}'.format(file_name), skiprows=range(1, 1000), nrows=nRowsRead)\n",
    "\n",
    "valid_df.head()\n"
   ],
   "metadata": {
    "collapsed": false,
    "ExecuteTime": {
     "end_time": "2024-02-16T21:41:24.218093Z",
     "start_time": "2024-02-16T21:41:24.189855Z"
    }
   },
   "id": "5e1543ae84e86df9",
   "execution_count": 131
  },
  {
   "cell_type": "code",
   "outputs": [
    {
     "name": "stdout",
     "output_type": "stream",
     "text": [
      "262\n"
     ]
    }
   ],
   "source": [
    "ids_train = train_df['Patient ID'].values\n",
    "ids_valid = valid_df['Patient ID'].values\n",
    "\n",
    "ids_valid_set = set(ids_valid)\n",
    "ids_train_set = set(ids_train)\n",
    "print(len(ids_valid_set))"
   ],
   "metadata": {
    "collapsed": false,
    "ExecuteTime": {
     "end_time": "2024-02-16T21:58:16.617894Z",
     "start_time": "2024-02-16T21:58:16.607129Z"
    }
   },
   "id": "1f62ca85acd7966e",
   "execution_count": 148
  },
  {
   "cell_type": "code",
   "outputs": [],
   "source": [],
   "metadata": {
    "collapsed": false,
    "ExecuteTime": {
     "end_time": "2024-02-16T21:33:04.128669Z",
     "start_time": "2024-02-16T21:33:04.122592Z"
    }
   },
   "id": "65815e9fe8c597f2",
   "execution_count": 109
  },
  {
   "cell_type": "code",
   "outputs": [
    {
     "ename": "KeyError",
     "evalue": "'image_names'",
     "output_type": "error",
     "traceback": [
      "\u001B[0;31m---------------------------------------------------------------------------\u001B[0m",
      "\u001B[0;31mKeyError\u001B[0m                                  Traceback (most recent call last)",
      "File \u001B[0;32m~/Chestxray/final-year-project-HammadsGit/.venv/lib/python3.9/site-packages/pandas/core/indexes/base.py:3802\u001B[0m, in \u001B[0;36mIndex.get_loc\u001B[0;34m(self, key)\u001B[0m\n\u001B[1;32m   3801\u001B[0m \u001B[38;5;28;01mtry\u001B[39;00m:\n\u001B[0;32m-> 3802\u001B[0m     \u001B[38;5;28;01mreturn\u001B[39;00m \u001B[38;5;28;43mself\u001B[39;49m\u001B[38;5;241;43m.\u001B[39;49m\u001B[43m_engine\u001B[49m\u001B[38;5;241;43m.\u001B[39;49m\u001B[43mget_loc\u001B[49m\u001B[43m(\u001B[49m\u001B[43mcasted_key\u001B[49m\u001B[43m)\u001B[49m\n\u001B[1;32m   3803\u001B[0m \u001B[38;5;28;01mexcept\u001B[39;00m \u001B[38;5;167;01mKeyError\u001B[39;00m \u001B[38;5;28;01mas\u001B[39;00m err:\n",
      "File \u001B[0;32mindex.pyx:153\u001B[0m, in \u001B[0;36mpandas._libs.index.IndexEngine.get_loc\u001B[0;34m()\u001B[0m\n",
      "File \u001B[0;32mindex.pyx:182\u001B[0m, in \u001B[0;36mpandas._libs.index.IndexEngine.get_loc\u001B[0;34m()\u001B[0m\n",
      "File \u001B[0;32mpandas/_libs/hashtable_class_helper.pxi:7081\u001B[0m, in \u001B[0;36mpandas._libs.hashtable.PyObjectHashTable.get_item\u001B[0;34m()\u001B[0m\n",
      "File \u001B[0;32mpandas/_libs/hashtable_class_helper.pxi:7089\u001B[0m, in \u001B[0;36mpandas._libs.hashtable.PyObjectHashTable.get_item\u001B[0;34m()\u001B[0m\n",
      "\u001B[0;31mKeyError\u001B[0m: 'image_names'",
      "\nThe above exception was the direct cause of the following exception:\n",
      "\u001B[0;31mKeyError\u001B[0m                                  Traceback (most recent call last)",
      "Cell \u001B[0;32mIn[110], line 5\u001B[0m\n\u001B[1;32m      2\u001B[0m test \u001B[38;5;241m=\u001B[39m pd\u001B[38;5;241m.\u001B[39mread_csv(\u001B[38;5;124m'\u001B[39m\u001B[38;5;124m./archive/train_val_list.txt\u001B[39m\u001B[38;5;124m'\u001B[39m)\n\u001B[1;32m      4\u001B[0m \u001B[38;5;66;03m# get the first 8 digit of each string in each line to get the patient id.\u001B[39;00m\n\u001B[0;32m----> 5\u001B[0m train_df[\u001B[38;5;124m'\u001B[39m\u001B[38;5;124mpatient_id\u001B[39m\u001B[38;5;124m'\u001B[39m] \u001B[38;5;241m=\u001B[39m \u001B[43mtrain_df\u001B[49m\u001B[43m[\u001B[49m\u001B[38;5;124;43m'\u001B[39;49m\u001B[38;5;124;43mimage_names\u001B[39;49m\u001B[38;5;124;43m'\u001B[39;49m\u001B[43m]\u001B[49m\u001B[38;5;241m.\u001B[39mstr[:\u001B[38;5;241m8\u001B[39m]\n\u001B[1;32m      6\u001B[0m valid_df[\u001B[38;5;124m'\u001B[39m\u001B[38;5;124mpatient_id\u001B[39m\u001B[38;5;124m'\u001B[39m] \u001B[38;5;241m=\u001B[39m valid_df[\u001B[38;5;124m'\u001B[39m\u001B[38;5;124m00000360_007.png\u001B[39m\u001B[38;5;124m'\u001B[39m]\u001B[38;5;241m.\u001B[39mstr[:\u001B[38;5;241m8\u001B[39m]\n\u001B[1;32m      7\u001B[0m \u001B[38;5;66;03m# print(len(train_df['patient_id']))\u001B[39;00m\n\u001B[1;32m      8\u001B[0m \u001B[38;5;66;03m# print(len(valid_df['patient_id']))\u001B[39;00m\n\u001B[1;32m      9\u001B[0m \n\u001B[1;32m     10\u001B[0m \n\u001B[1;32m     11\u001B[0m \u001B[38;5;66;03m# Extract patient id's for the training set\u001B[39;00m\n",
      "File \u001B[0;32m~/Chestxray/final-year-project-HammadsGit/.venv/lib/python3.9/site-packages/pandas/core/frame.py:4090\u001B[0m, in \u001B[0;36mDataFrame.__getitem__\u001B[0;34m(self, key)\u001B[0m\n\u001B[1;32m   4088\u001B[0m \u001B[38;5;28;01mif\u001B[39;00m \u001B[38;5;28mself\u001B[39m\u001B[38;5;241m.\u001B[39mcolumns\u001B[38;5;241m.\u001B[39mnlevels \u001B[38;5;241m>\u001B[39m \u001B[38;5;241m1\u001B[39m:\n\u001B[1;32m   4089\u001B[0m     \u001B[38;5;28;01mreturn\u001B[39;00m \u001B[38;5;28mself\u001B[39m\u001B[38;5;241m.\u001B[39m_getitem_multilevel(key)\n\u001B[0;32m-> 4090\u001B[0m indexer \u001B[38;5;241m=\u001B[39m \u001B[38;5;28;43mself\u001B[39;49m\u001B[38;5;241;43m.\u001B[39;49m\u001B[43mcolumns\u001B[49m\u001B[38;5;241;43m.\u001B[39;49m\u001B[43mget_loc\u001B[49m\u001B[43m(\u001B[49m\u001B[43mkey\u001B[49m\u001B[43m)\u001B[49m\n\u001B[1;32m   4091\u001B[0m \u001B[38;5;28;01mif\u001B[39;00m is_integer(indexer):\n\u001B[1;32m   4092\u001B[0m     indexer \u001B[38;5;241m=\u001B[39m [indexer]\n",
      "File \u001B[0;32m~/Chestxray/final-year-project-HammadsGit/.venv/lib/python3.9/site-packages/pandas/core/indexes/base.py:3809\u001B[0m, in \u001B[0;36mIndex.get_loc\u001B[0;34m(self, key)\u001B[0m\n\u001B[1;32m   3804\u001B[0m     \u001B[38;5;28;01mif\u001B[39;00m \u001B[38;5;28misinstance\u001B[39m(casted_key, \u001B[38;5;28mslice\u001B[39m) \u001B[38;5;129;01mor\u001B[39;00m (\n\u001B[1;32m   3805\u001B[0m         \u001B[38;5;28misinstance\u001B[39m(casted_key, abc\u001B[38;5;241m.\u001B[39mIterable)\n\u001B[1;32m   3806\u001B[0m         \u001B[38;5;129;01mand\u001B[39;00m \u001B[38;5;28many\u001B[39m(\u001B[38;5;28misinstance\u001B[39m(x, \u001B[38;5;28mslice\u001B[39m) \u001B[38;5;28;01mfor\u001B[39;00m x \u001B[38;5;129;01min\u001B[39;00m casted_key)\n\u001B[1;32m   3807\u001B[0m     ):\n\u001B[1;32m   3808\u001B[0m         \u001B[38;5;28;01mraise\u001B[39;00m InvalidIndexError(key)\n\u001B[0;32m-> 3809\u001B[0m     \u001B[38;5;28;01mraise\u001B[39;00m \u001B[38;5;167;01mKeyError\u001B[39;00m(key) \u001B[38;5;28;01mfrom\u001B[39;00m \u001B[38;5;21;01merr\u001B[39;00m\n\u001B[1;32m   3810\u001B[0m \u001B[38;5;28;01mexcept\u001B[39;00m \u001B[38;5;167;01mTypeError\u001B[39;00m:\n\u001B[1;32m   3811\u001B[0m     \u001B[38;5;66;03m# If we have a listlike key, _check_indexing_error will raise\u001B[39;00m\n\u001B[1;32m   3812\u001B[0m     \u001B[38;5;66;03m#  InvalidIndexError. Otherwise we fall through and re-raise\u001B[39;00m\n\u001B[1;32m   3813\u001B[0m     \u001B[38;5;66;03m#  the TypeError.\u001B[39;00m\n\u001B[1;32m   3814\u001B[0m     \u001B[38;5;28mself\u001B[39m\u001B[38;5;241m.\u001B[39m_check_indexing_error(key)\n",
      "\u001B[0;31mKeyError\u001B[0m: 'image_names'"
     ]
    }
   ],
   "source": [
    "# # Extract the patient id from the file name\n",
    "# test = pd.read_csv('./archive/train_val_list.txt')\n",
    "# \n",
    "# # get the first 8 digit of each string in each line to get the patient id.\n",
    "# train_df['patient_id'] = train_df['image_names'].str[:8]\n",
    "# valid_df['patient_id'] = valid_df['image_names'].str[:8]\n",
    "# # print(len(train_df['patient_id']))\n",
    "# # print(len(valid_df['patient_id']))\n",
    "# \n",
    "# \n",
    "# # Extract patient id's for the training set\n",
    "# ids_train  = list(set(train_df['patient_id'].astype(int).tolist()))\n",
    "# # Extract patient id's for the validation set\n",
    "# ids_valid  = list(set(valid_df['patient_id'].astype(int).tolist()))\n",
    "# \n",
    "\n"
   ],
   "metadata": {
    "collapsed": false,
    "ExecuteTime": {
     "end_time": "2024-02-16T21:33:08.377551Z",
     "start_time": "2024-02-16T21:33:08.257865Z"
    }
   },
   "id": "9ded19a2e45db13e",
   "execution_count": 110
  },
  {
   "cell_type": "code",
   "outputs": [
    {
     "name": "stdout",
     "output_type": "stream",
     "text": [
      "1\n",
      "246\n",
      "246\n",
      "246\n",
      "246\n",
      "246\n",
      "246\n",
      "246\n",
      "246\n",
      "246\n",
      "246\n",
      "246\n",
      "246\n",
      "246\n",
      "246\n",
      "246\n",
      "246\n",
      "246\n",
      "246\n",
      "246\n",
      "246\n",
      "246\n",
      "246\n",
      "246\n",
      "246\n",
      "246\n",
      "246\n",
      "246\n",
      "246\n",
      "246\n",
      "246\n",
      "246\n",
      "246\n",
      "246\n",
      "246\n",
      "246\n",
      "246\n",
      "246\n",
      "246\n",
      "246\n",
      "246\n",
      "246\n",
      "246\n",
      "246\n",
      "246\n",
      "246\n",
      "246\n",
      "246\n",
      "246\n",
      "246\n",
      "246\n",
      "246\n",
      "246\n",
      "246\n",
      "246\n"
     ]
    }
   ],
   "source": [
    "patient_overlap  = list(set(ids_train).intersection(set(ids_valid)))\n",
    "n_overlap = len(patient_overlap)\n",
    "print(n_overlap)\n",
    "\n",
    "for i in ids_train:\n",
    "    fpr "
   ],
   "metadata": {
    "collapsed": false,
    "ExecuteTime": {
     "end_time": "2024-02-16T21:48:35.654930Z",
     "start_time": "2024-02-16T21:48:35.610742Z"
    }
   },
   "id": "38af7dd167ea5d48",
   "execution_count": 138
  },
  {
   "cell_type": "code",
   "outputs": [
    {
     "name": "stdout",
     "output_type": "stream",
     "text": [
      "These are the indices of overlapping patients in the training set: \n",
      "[982, 983, 984, 985, 986, 987, 988, 989, 990, 991, 992, 993, 994, 995, 996, 997, 998, 999]\n",
      "These are the indices of overlapping patients in the validation set: \n",
      "[0, 1, 2]\n"
     ]
    }
   ],
   "source": [
    "train_overlap_idxs = []\n",
    "valid_overlap_idxs = []\n",
    "for idx in range(n_overlap):\n",
    "    train_overlap_idxs.extend(train_df.index[train_df['Patient ID'] == patient_overlap[idx]].tolist())\n",
    "    valid_overlap_idxs.extend(valid_df.index[valid_df['Patient ID'] == patient_overlap[idx]].tolist())\n",
    "    \n",
    "print(f'These are the indices of overlapping patients in the training set: ')\n",
    "print(f'{train_overlap_idxs}')\n",
    "print(f'These are the indices of overlapping patients in the validation set: ')\n",
    "print(f'{valid_overlap_idxs}')"
   ],
   "metadata": {
    "collapsed": false,
    "ExecuteTime": {
     "end_time": "2024-02-16T21:54:25.624191Z",
     "start_time": "2024-02-16T21:54:25.619767Z"
    }
   },
   "id": "b907fb9eeb54f826",
   "execution_count": 139
  },
  {
   "cell_type": "code",
   "outputs": [],
   "source": [
    "valid_df.drop(valid_overlap_idxs, inplace=True)"
   ],
   "metadata": {
    "collapsed": false,
    "ExecuteTime": {
     "end_time": "2024-02-16T21:54:34.944132Z",
     "start_time": "2024-02-16T21:54:34.933793Z"
    }
   },
   "id": "99a270c6a221a950",
   "execution_count": 140
  },
  {
   "cell_type": "code",
   "outputs": [
    {
     "name": "stdout",
     "output_type": "stream",
     "text": [
      "There are 262 unique Patient IDs in the training set\n"
     ]
    }
   ],
   "source": [
    "# Extract patient id's for the validation set\n",
    "ids_valid = valid_df['Patient ID'].values\n",
    "# Create a \"set\" datastructure of the validation set id's to identify unique id's\n",
    "ids_valid_set = set(ids_valid)\n",
    "print(f'There are {len(ids_valid_set)} unique Patient IDs in the training set')"
   ],
   "metadata": {
    "collapsed": false,
    "ExecuteTime": {
     "end_time": "2024-02-16T21:57:19.829982Z",
     "start_time": "2024-02-16T21:57:19.824424Z"
    }
   },
   "id": "f4c38f41cad497c8",
   "execution_count": 146
  },
  {
   "cell_type": "code",
   "outputs": [
    {
     "name": "stdout",
     "output_type": "stream",
     "text": [
      "There are 0 Patient IDs in both the training and validation sets\n"
     ]
    }
   ],
   "source": [
    "# Identify patient overlap by looking at the intersection between the sets\n",
    "patient_overlap = list(ids_train_set.intersection(ids_valid_set))\n",
    "n_overlap = len(patient_overlap)\n",
    "print(f'There are {n_overlap} Patient IDs in both the training and validation sets')"
   ],
   "metadata": {
    "collapsed": false,
    "ExecuteTime": {
     "end_time": "2024-02-16T21:58:20.101440Z",
     "start_time": "2024-02-16T21:58:20.079801Z"
    }
   },
   "id": "f21d9764446df29f",
   "execution_count": 149
  },
  {
   "cell_type": "code",
   "outputs": [],
   "source": [],
   "metadata": {
    "collapsed": false
   },
   "id": "9ae63411efb22de7"
  }
 ],
 "metadata": {
  "kernelspec": {
   "display_name": "Python 3",
   "language": "python",
   "name": "python3"
  },
  "language_info": {
   "codemirror_mode": {
    "name": "ipython",
    "version": 2
   },
   "file_extension": ".py",
   "mimetype": "text/x-python",
   "name": "python",
   "nbconvert_exporter": "python",
   "pygments_lexer": "ipython2",
   "version": "2.7.6"
  }
 },
 "nbformat": 4,
 "nbformat_minor": 5
}
