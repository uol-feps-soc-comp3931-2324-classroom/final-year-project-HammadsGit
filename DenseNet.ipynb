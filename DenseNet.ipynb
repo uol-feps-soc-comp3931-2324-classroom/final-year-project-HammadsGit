{
 "cells": [
  {
   "cell_type": "code",
   "execution_count": 30,
   "metadata": {},
   "outputs": [],
   "source": [
    "import numpy as np\n",
    "import pandas as pd\n",
    "import seaborn as sns\n",
    "import matplotlib.pyplot as plt\n",
    "\n",
    "from keras.preprocessing.image import ImageDataGenerator\n",
    "from keras.applications.densenet import DenseNet121\n",
    "from keras.layers import Dense, GlobalAveragePooling2D\n",
    "from keras.models import Model\n",
    "from keras import backend as K\n",
    "\n",
    "from keras.models import load_model\n",
    "\n",
    "\n",
    "\n",
    "import utils\n",
    "from sklearn import utils\n",
    "from public_test import *\n",
    "from testutils import *\n",
    "\n",
    "import tensorflow as tf\n",
    "tf.compat.v1.disable_eager_execution()\n",
    "tf.compat.v1.logging.set_verbosity(tf.compat.v1.logging.ERROR)\n",
    "\n"
   ]
  },
  {
   "cell_type": "code",
   "execution_count": 31,
   "metadata": {},
   "outputs": [],
   "source": [
    "IMAGE_DIR = \"archive/images\"\n",
    "\n",
    "\n",
    "labels = ['Cardiomegaly', \n",
    "          'Emphysema', \n",
    "          'Effusion', \n",
    "          'Hernia', \n",
    "          'Infiltration', \n",
    "          'Mass', \n",
    "          'Nodule', \n",
    "          'Atelectasis',\n",
    "          'Pneumothorax',\n",
    "          'Pleural_Thickening', \n",
    "          'Pneumonia', \n",
    "          'Fibrosis', \n",
    "          'Edema', \n",
    "          'Consolidation']\n",
    "\n",
    "\n"
   ]
  },
  {
   "cell_type": "code",
   "execution_count": 32,
   "metadata": {},
   "outputs": [],
   "source": [
    "train_df = pd.read_csv(\"archive/train_data.csv\")\n",
    "test_df = pd.read_csv(\"archive/test_data.csv\")\n",
    "valid_df = pd.read_csv(\"archive/val_data.csv\")"
   ]
  },
  {
   "cell_type": "code",
   "execution_count": 33,
   "metadata": {},
   "outputs": [],
   "source": [
    "\n",
    "def detect_patient_overlap(dataframe1, dataframe2, patient_column):\n",
    "\n",
    "    # Extracting patient IDs from both dataframes\n",
    "    patients_df1 = set(dataframe1[patient_column].unique())\n",
    "    patients_df2 = set(dataframe2[patient_column].unique())\n",
    "    \n",
    "    # Finding the intersection of patient IDs between the two sets\n",
    "    common_patients = patients_df1 & patients_df2\n",
    "    \n",
    "    # Checking if there are any common patients\n",
    "    has_overlap = len(common_patients) > 0\n",
    "    \n",
    "    return has_overlap"
   ]
  },
  {
   "cell_type": "code",
   "execution_count": 34,
   "metadata": {},
   "outputs": [
    {
     "name": "stdout",
     "output_type": "stream",
     "text": [
      "Overlap detected between training and validation sets: False\n",
      "Overlap detected between training and test sets: False\n",
      "Overlap detected between validation and test sets: False\n"
     ]
    }
   ],
   "source": [
    "print(\"Overlap detected between training and validation sets: {}\".format(detect_patient_overlap(train_df, valid_df, 'PatientId')))\n",
    "print(\"Overlap detected between training and test sets: {}\".format(detect_patient_overlap(train_df, test_df, 'PatientId')))\n",
    "print(\"Overlap detected between validation and test sets: {}\".format(detect_patient_overlap(valid_df, test_df, 'PatientId')))\n"
   ]
  },
  {
   "cell_type": "code",
   "execution_count": 35,
   "metadata": {},
   "outputs": [],
   "source": [
    "def get_train_generator(dataframe, images_folder, feature_column, labels_columns, mix=True, size_per_batch=32, random_seed=1, width=320, height=320):\n",
    "\n",
    "    print(\"Preparing training data loader...\") \n",
    "    # Standardize images\n",
    "    img_data_preprocessor = ImageDataGenerator(\n",
    "        rotation_range=40,\n",
    "        width_shift_range=0.2,\n",
    "        height_shift_range=0.2,\n",
    "        shear_range=0.2,\n",
    "        zoom_range=0.2,\n",
    "        horizontal_flip=True,\n",
    "        fill_mode='nearest')\n",
    "    \n",
    "    \n",
    "    # Generate data batch with defined size and image dimensions\n",
    "    data_loader = img_data_preprocessor.flow_from_dataframe(\n",
    "            dataframe=dataframe,\n",
    "            directory=images_folder,\n",
    "            x_col=feature_column,\n",
    "            y_col=labels_columns,\n",
    "            class_mode=\"raw\",\n",
    "            batch_size=size_per_batch,\n",
    "            shuffle=mix,\n",
    "            seed=random_seed,\n",
    "            target_size=(width,height))\n",
    "    \n",
    "    return data_loader"
   ]
  },
  {
   "cell_type": "code",
   "execution_count": 36,
   "metadata": {},
   "outputs": [],
   "source": [
    "def get_test_and_valid_generator(validation_data, test_data, training_data, images_path, feature_column, target_columns, sampling_size=100, size_per_batch=32, random_seed=1, img_width=320, img_height=320):\n",
    "\n",
    "    print(\"Preparing validation and test data loaders...\")\n",
    "    # Create a raw data generator for sampling\n",
    "    initial_data_generator = ImageDataGenerator().flow_from_dataframe(\n",
    "        dataframe=training_data,\n",
    "        directory=images_path,\n",
    "        x_col=\"Image\",\n",
    "        y_col=target_columns,\n",
    "        class_mode=\"raw\",\n",
    "        batch_size=sampling_size,\n",
    "        shuffle=True,\n",
    "        target_size=(img_width, img_height))\n",
    "    \n",
    "    # Extract a data sample for normalization purposes\n",
    "    data_batch = initial_data_generator.next()\n",
    "    sample_data = data_batch[0]\n",
    "\n",
    "    # Configure generator for standardized image inputs\n",
    "    standardized_image_generator = ImageDataGenerator(\n",
    "        featurewise_center=True,\n",
    "        featurewise_std_normalization=True)\n",
    "    \n",
    "    # Standardize based on the training data sample\n",
    "    standardized_image_generator.fit(sample_data)\n",
    "\n",
    "    # Setup validation data loader\n",
    "    validation_loader = standardized_image_generator.flow_from_dataframe(\n",
    "            dataframe=validation_data,\n",
    "            directory=images_path,\n",
    "            x_col=feature_column,\n",
    "            y_col=target_columns,\n",
    "            class_mode=\"raw\",\n",
    "            batch_size=size_per_batch,\n",
    "            shuffle=False,\n",
    "            seed=random_seed,\n",
    "            target_size=(img_width,img_height))\n",
    "\n",
    "    # Setup test data loader\n",
    "    test_loader = standardized_image_generator.flow_from_dataframe(\n",
    "            dataframe=test_data,\n",
    "            directory=images_path,\n",
    "            x_col=feature_column,\n",
    "            y_col=target_columns,\n",
    "            class_mode=\"raw\",\n",
    "            batch_size=size_per_batch,\n",
    "            shuffle=False,\n",
    "            seed=random_seed,\n",
    "            target_size=(img_width,img_height))\n",
    "    \n",
    "    return validation_loader, test_loader"
   ]
  },
  {
   "cell_type": "code",
   "execution_count": 37,
   "metadata": {},
   "outputs": [
    {
     "name": "stdout",
     "output_type": "stream",
     "text": [
      "Preparing training data loader...\n",
      "Found 77871 validated image filenames.\n"
     ]
    }
   ],
   "source": [
    "train_generator = get_train_generator(train_df, IMAGE_DIR, \"Image\", labels)"
   ]
  },
  {
   "cell_type": "code",
   "execution_count": 38,
   "metadata": {},
   "outputs": [
    {
     "name": "stdout",
     "output_type": "stream",
     "text": [
      "Preparing validation and test data loaders...\n",
      "Found 77871 validated image filenames.\n",
      "Found 8653 validated image filenames.\n",
      "Found 25596 validated image filenames.\n"
     ]
    }
   ],
   "source": [
    "valid_generator, test_generator= get_test_and_valid_generator(valid_df, test_df, train_df, IMAGE_DIR, \"Image\", labels)"
   ]
  },
  {
   "cell_type": "code",
   "execution_count": 39,
   "metadata": {},
   "outputs": [
    {
     "data": {
      "image/png": "[encoded data removed]",
      "text/plain": [
       "<Figure size 640x480 with 1 Axes>"
      ]
     },
     "metadata": {},
     "output_type": "display_data"
    }
   ],
   "source": [
    "plt.xticks(rotation=90)\n",
    "plt.bar(x=labels, height=np.mean(train_generator.labels, axis=0))\n",
    "plt.title(\"Frequency of Each Class\")\n",
    "plt.show()"
   ]
  },
  {
   "cell_type": "code",
   "execution_count": 40,
   "metadata": {},
   "outputs": [],
   "source": [
    "def compute_class_freqs(label_array):\n",
    "    # Determine the total number of entries\n",
    "    total_entries = label_array.shape[0]\n",
    "    \n",
    "    # Calculate frequencies of the positive labels\n",
    "    freq_of_positives = np.sum(label_array, axis=0) / total_entries\n",
    "    # Derive frequencies of the negative labels\n",
    "    freq_of_negatives = 1 - freq_of_positives\n",
    "\n",
    "    return freq_of_positives, freq_of_negatives"
   ]
  },
  {
   "cell_type": "code",
   "execution_count": 41,
   "metadata": {},
   "outputs": [],
   "source": [
    "freq_pos, freq_neg = compute_class_freqs(train_generator.labels)"
   ]
  },
  {
   "cell_type": "code",
   "execution_count": 42,
   "metadata": {},
   "outputs": [
    {
     "data": {
      "text/plain": [
       "<Axes: xlabel='Class', ylabel='Value'>"
      ]
     },
     "execution_count": 42,
     "metadata": {},
     "output_type": "execute_result"
    },
    {
     "data": {
      "image/png": "[encoded data removed]",
      "text/plain": [
       "<Figure size 640x480 with 1 Axes>"
      ]
     },
     "metadata": {},
     "output_type": "display_data"
    }
   ],
   "source": [
    "data = pd.DataFrame({\"Class\": labels, \"Label\": \"Positive\", \"Value\": freq_pos})\n",
    "\n",
    "# New DataFrame for negative labels, with red color\n",
    "new_data = pd.DataFrame({\"Class\": labels, \"Label\": \"Negative\", \"Value\": freq_neg, \"Color\": \"red\"})\n",
    "\n",
    "# Concatenating the original and new data\n",
    "data = pd.concat([data, new_data], ignore_index=True)\n",
    "\n",
    "# Plotting\n",
    "plt.xticks(rotation=90)\n",
    "sns.barplot(x=\"Class\", y=\"Value\", hue=\"Label\", data=data)"
   ]
  },
  {
   "cell_type": "code",
   "execution_count": 43,
   "metadata": {},
   "outputs": [
    {
     "data": {
      "text/plain": [
       "(array([0.0184963 , 0.01581937, 0.0883923 , 0.00156424, 0.12841832,\n",
       "        0.04373162, 0.05026948, 0.08520702, 0.02832519, 0.02469482,\n",
       "        0.00979037, 0.0149859 , 0.01563291, 0.031362  ]),\n",
       " array([0.0184963 , 0.01581937, 0.0883923 , 0.00156424, 0.12841832,\n",
       "        0.04373162, 0.05026948, 0.08520702, 0.02832519, 0.02469482,\n",
       "        0.00979037, 0.0149859 , 0.01563291, 0.031362  ]))"
      ]
     },
     "execution_count": 43,
     "metadata": {},
     "output_type": "execute_result"
    }
   ],
   "source": [
    "pos_weights = freq_neg\n",
    "neg_weights = freq_pos\n",
    "\n",
    "pos_contribution = freq_pos * pos_weights\n",
    "neg_contribution = freq_neg * neg_weights\n",
    "\n",
    "pos_contribution, neg_contribution"
   ]
  },
  {
   "cell_type": "code",
   "execution_count": 44,
   "metadata": {},
   "outputs": [
    {
     "data": {
      "image/png": "[encoded data removed]",
      "text/plain": [
       "<Figure size 640x480 with 1 Axes>"
      ]
     },
     "metadata": {},
     "output_type": "display_data"
    }
   ],
   "source": [
    "# Creating DataFrame for positive contributions\n",
    "data_pos = pd.DataFrame({\"Class\": labels, \"Label\": \"Positive\", \"Value\": pos_contribution})\n",
    "\n",
    "# Creating DataFrame for negative contributions\n",
    "data_neg = pd.DataFrame({\"Class\": labels, \"Label\": \"Negative\", \"Value\": neg_contribution})\n",
    "\n",
    "# Concatenating the positive and negative data\n",
    "data = pd.concat([data_pos, data_neg], ignore_index=True)\n",
    "\n",
    "# Plotting\n",
    "plt.xticks(rotation=90)\n",
    "sns.barplot(x=\"Class\", y=\"Value\", hue=\"Label\", data=data)\n",
    "plt.show()"
   ]
  },
  {
   "cell_type": "code",
   "execution_count": 45,
   "metadata": {},
   "outputs": [],
   "source": [
    "\n",
    "def get_weighted_loss(pos_weights, neg_weights, epsilon=1e-7):\n",
    "\n",
    "    def weighted_loss(y_true, y_pred):\n",
    "        print(\"y_true shape:\", K.shape(y_true))  # Debug print\n",
    "        print(\"y_pred shape:\", K.shape(y_pred))  # Debug print\n",
    "        \n",
    "\n",
    "        # initialize loss to zero\n",
    "        loss = 0.0\n",
    "        \n",
    "        ### START CODE HERE (REPLACE INSTANCES OF 'None' with your code) ###\n",
    "\n",
    "        for i in range(len(pos_weights)):\n",
    "            # for each class, add average weighted loss for that class \n",
    "            loss_pos = -1. * K.mean(K.cast(pos_weights[i], 'float32') * K.cast(y_true[:, i], 'float32') * K.log(K.cast(y_pred[:, i], 'float32') + epsilon))\n",
    "            \n",
    "            loss_neg = -1 * K.mean(K.cast(neg_weights[i], \"float32\") * (1 - K.cast(y_true[:, i], 'float32')) * K.log(1 - K.cast(y_pred[:, i], 'float32') + epsilon))\n",
    "\n",
    "            \n",
    "            loss += loss_pos + loss_neg\n",
    "        return loss\n",
    "        \n",
    "        \n",
    "    \n",
    "        ### END CODE HERE ###\n",
    "    return weighted_loss\n"
   ]
  },
  {
   "cell_type": "code",
   "execution_count": 46,
   "metadata": {},
   "outputs": [
    {
     "name": "stdout",
     "output_type": "stream",
     "text": [
      "y_true shape: Tensor(\"loss/dense_loss/Shape:0\", shape=(2,), dtype=int32)\n",
      "y_pred shape: Tensor(\"loss/dense_loss/Shape_1:0\", shape=(2,), dtype=int32)\n"
     ]
    }
   ],
   "source": [
    "from tensorflow.keras.callbacks import ModelCheckpoint, TensorBoard, ReduceLROnPlateau, EarlyStopping\n",
    "import datetime\n",
    "\n",
    "# create the base pre-trained model\n",
    "base_model = DenseNet121(weights='models/densenet.hdf5', include_top=False)\n",
    "\n",
    "x = base_model.output\n",
    "# x = tf.cast(x, tf.float32)\n",
    "# add a global spatial average pooling layer\n",
    "x = GlobalAveragePooling2D()(x)\n",
    "\n",
    "# and a logistic layer\n",
    "predictions = Dense(len(labels), activation=\"sigmoid\")(x)\n",
    "\n",
    "model = Model(inputs=base_model.input, outputs=predictions)\n",
    "model.compile(optimizer='adam', loss=get_weighted_loss(pos_weights, neg_weights))\n",
    "\n",
    "# Callbacks\n",
    "checkpoint = ModelCheckpoint(\"best_model.h5\", monitor='val_loss', verbose=1, save_best_only=True, mode='min')\n",
    "log_dir = \"logs/fit/\" + datetime.datetime.now().strftime(\"%Y%m%d-%H%M%S\")\n",
    "tensorboard = TensorBoard(log_dir=log_dir, histogram_freq=1)\n",
    "reduce_lr = ReduceLROnPlateau(monitor='val_loss', factor=0.1, patience=10, verbose=1, mode='min', min_lr=0.00001)\n",
    "early_stopping = EarlyStopping(monitor='val_loss', patience=5, verbose=1, restore_best_weights=True)"
   ]
  },
  {
   "cell_type": "code",
   "execution_count": null,
   "metadata": {},
   "outputs": [],
   "source": [
    "history = model.fit(train_generator, \n",
    "                              validation_data=valid_generator,\n",
    "                              steps_per_epoch=100, \n",
    "                              validation_steps=25, \n",
    "                              epochs = 20, callbacks=[checkpoint, tensorboard, reduce_lr, early_stopping])\n",
    "\n",
    "plt.plot(history.history['loss'])\n",
    "plt.ylabel(\"loss\")\n",
    "plt.xlabel(\"epoch\")\n",
    "plt.title(\"Training Loss Curve\")\n",
    "model.save(\"trained_model_2.h5\")\n",
    "plt.show()"
   ]
  },
  {
   "cell_type": "code",
   "execution_count": null,
   "metadata": {},
   "outputs": [],
   "source": [
    "# print loss value\n",
    "plt.plot(history.history['val_loss'])\n",
    "plt.ylabel(\"loss\")\n",
    "plt.xlabel(\"epoch\")\n",
    "plt.title(\"Value Loss Curve\")\n",
    "\n",
    "plt.show()"
   ]
  },
  {
   "cell_type": "code",
   "execution_count": 47,
   "metadata": {},
   "outputs": [],
   "source": [
    "model.load_weights(\"trained_model_2.h5\")"
   ]
  },
  {
   "cell_type": "code",
   "execution_count": null,
   "metadata": {},
   "outputs": [],
   "source": [
    "predicted_vals = model.predict_generator(test_generator, steps = len(test_generator))\n",
    "\n",
    "print(predicted_vals[0])"
   ]
  },
  {
   "cell_type": "code",
   "execution_count": 50,
   "metadata": {},
   "outputs": [
    {
     "data": {
      "text/plain": [
       "(array([0.98114831, 0.98392213, 0.9020046 , 0.99843331, 0.84868565,\n",
       "        0.95416779, 0.9469122 , 0.90594701, 0.97082354, 0.97466323,\n",
       "        0.99011185, 0.98478252, 0.98411475, 0.96758742]),\n",
       " array([0.01885169, 0.01607787, 0.0979954 , 0.00156669, 0.15131435,\n",
       "        0.04583221, 0.0530878 , 0.09405299, 0.02917646, 0.02533677,\n",
       "        0.00988815, 0.01521748, 0.01588525, 0.03241258]))"
      ]
     },
     "execution_count": 50,
     "metadata": {},
     "output_type": "execute_result"
    }
   ],
   "source": [
    "pos_weights, neg_weights\n",
    "# get_weighted_loss(pos_weights, neg_weights)"
   ]
  },
  {
   "cell_type": "code",
   "execution_count": 48,
   "metadata": {},
   "outputs": [
    {
     "name": "stdout",
     "output_type": "stream",
     "text": [
      "y_true shape: Tensor(\"loss_1/dense_19_loss/Shape:0\", shape=(2,), dtype=int32)\n",
      "y_pred shape: Tensor(\"loss_1/dense_19_loss/Shape_1:0\", shape=(2,), dtype=int32)\n"
     ]
    }
   ],
   "source": [
    "model = load_model('trained_model_2.h5', custom_objects={'weighted_loss': get_weighted_loss(pos_weights, neg_weights)})"
   ]
  },
  {
   "cell_type": "code",
   "execution_count": 49,
   "metadata": {},
   "outputs": [
    {
     "name": "stderr",
     "output_type": "stream",
     "text": [
      "/Users/hammad/Chestxray/final-year-project-HammadsGit/.venv/lib/python3.10/site-packages/keras/engine/training_v1.py:2067: UserWarning: `Model.state_updates` will be removed in a future version. This property should not be used in TensorFlow 2.0, as `updates` are applied automatically.\n",
      "  updates=self.state_updates,\n"
     ]
    },
    {
     "ename": "ValueError",
     "evalue": "Tensor Tensor(\"dense_19/Sigmoid:0\", shape=(None, 14), dtype=float32) is not an element of this graph.",
     "output_type": "error",
     "traceback": [
      "\u001b[0;31m---------------------------------------------------------------------------\u001b[0m",
      "\u001b[0;31mValueError\u001b[0m                                Traceback (most recent call last)",
      "Cell \u001b[0;32mIn[49], line 24\u001b[0m\n\u001b[1;32m     21\u001b[0m prepared_img \u001b[38;5;241m=\u001b[39m prepare_image(img_path, target_size\u001b[38;5;241m=\u001b[39m(\u001b[38;5;241m320\u001b[39m, \u001b[38;5;241m320\u001b[39m))\n\u001b[1;32m     22\u001b[0m \u001b[38;5;66;03m# K.clear_session()\u001b[39;00m\n\u001b[0;32m---> 24\u001b[0m predictions \u001b[38;5;241m=\u001b[39m \u001b[43mmodel\u001b[49m\u001b[38;5;241;43m.\u001b[39;49m\u001b[43mpredict\u001b[49m\u001b[43m(\u001b[49m\u001b[43mprepared_img\u001b[49m\u001b[43m)\u001b[49m\n\u001b[1;32m     26\u001b[0m \u001b[38;5;28mprint\u001b[39m(predictions)\n\u001b[1;32m     28\u001b[0m \u001b[38;5;66;03m# Assuming your model predicts probabilities for each class\u001b[39;00m\n\u001b[1;32m     29\u001b[0m \u001b[38;5;66;03m# and you have a list of class labels\u001b[39;00m\n",
      "File \u001b[0;32m~/Chestxray/final-year-project-HammadsGit/.venv/lib/python3.10/site-packages/keras/engine/training_v1.py:969\u001b[0m, in \u001b[0;36mModel.predict\u001b[0;34m(self, x, batch_size, verbose, steps, callbacks, max_queue_size, workers, use_multiprocessing)\u001b[0m\n\u001b[1;32m    966\u001b[0m \u001b[38;5;28mself\u001b[39m\u001b[38;5;241m.\u001b[39m_check_call_args(\u001b[38;5;124m'\u001b[39m\u001b[38;5;124mpredict\u001b[39m\u001b[38;5;124m'\u001b[39m)\n\u001b[1;32m    968\u001b[0m func \u001b[38;5;241m=\u001b[39m \u001b[38;5;28mself\u001b[39m\u001b[38;5;241m.\u001b[39m_select_training_loop(x)\n\u001b[0;32m--> 969\u001b[0m \u001b[38;5;28;01mreturn\u001b[39;00m \u001b[43mfunc\u001b[49m\u001b[38;5;241;43m.\u001b[39;49m\u001b[43mpredict\u001b[49m\u001b[43m(\u001b[49m\n\u001b[1;32m    970\u001b[0m \u001b[43m    \u001b[49m\u001b[38;5;28;43mself\u001b[39;49m\u001b[43m,\u001b[49m\n\u001b[1;32m    971\u001b[0m \u001b[43m    \u001b[49m\u001b[43mx\u001b[49m\u001b[38;5;241;43m=\u001b[39;49m\u001b[43mx\u001b[49m\u001b[43m,\u001b[49m\n\u001b[1;32m    972\u001b[0m \u001b[43m    \u001b[49m\u001b[43mbatch_size\u001b[49m\u001b[38;5;241;43m=\u001b[39;49m\u001b[43mbatch_size\u001b[49m\u001b[43m,\u001b[49m\n\u001b[1;32m    973\u001b[0m \u001b[43m    \u001b[49m\u001b[43mverbose\u001b[49m\u001b[38;5;241;43m=\u001b[39;49m\u001b[43mverbose\u001b[49m\u001b[43m,\u001b[49m\n\u001b[1;32m    974\u001b[0m \u001b[43m    \u001b[49m\u001b[43msteps\u001b[49m\u001b[38;5;241;43m=\u001b[39;49m\u001b[43msteps\u001b[49m\u001b[43m,\u001b[49m\n\u001b[1;32m    975\u001b[0m \u001b[43m    \u001b[49m\u001b[43mcallbacks\u001b[49m\u001b[38;5;241;43m=\u001b[39;49m\u001b[43mcallbacks\u001b[49m\u001b[43m,\u001b[49m\n\u001b[1;32m    976\u001b[0m \u001b[43m    \u001b[49m\u001b[43mmax_queue_size\u001b[49m\u001b[38;5;241;43m=\u001b[39;49m\u001b[43mmax_queue_size\u001b[49m\u001b[43m,\u001b[49m\n\u001b[1;32m    977\u001b[0m \u001b[43m    \u001b[49m\u001b[43mworkers\u001b[49m\u001b[38;5;241;43m=\u001b[39;49m\u001b[43mworkers\u001b[49m\u001b[43m,\u001b[49m\n\u001b[1;32m    978\u001b[0m \u001b[43m    \u001b[49m\u001b[43muse_multiprocessing\u001b[49m\u001b[38;5;241;43m=\u001b[39;49m\u001b[43muse_multiprocessing\u001b[49m\u001b[43m)\u001b[49m\n",
      "File \u001b[0;32m~/Chestxray/final-year-project-HammadsGit/.venv/lib/python3.10/site-packages/keras/engine/training_arrays_v1.py:700\u001b[0m, in \u001b[0;36mArrayLikeTrainingLoop.predict\u001b[0;34m(self, model, x, batch_size, verbose, steps, callbacks, **kwargs)\u001b[0m\n\u001b[1;32m    697\u001b[0m batch_size \u001b[38;5;241m=\u001b[39m model\u001b[38;5;241m.\u001b[39m_validate_or_infer_batch_size(batch_size, steps, x)\n\u001b[1;32m    698\u001b[0m x, _, _ \u001b[38;5;241m=\u001b[39m model\u001b[38;5;241m.\u001b[39m_standardize_user_data(\n\u001b[1;32m    699\u001b[0m     x, check_steps\u001b[38;5;241m=\u001b[39m\u001b[38;5;28;01mTrue\u001b[39;00m, steps_name\u001b[38;5;241m=\u001b[39m\u001b[38;5;124m'\u001b[39m\u001b[38;5;124msteps\u001b[39m\u001b[38;5;124m'\u001b[39m, steps\u001b[38;5;241m=\u001b[39msteps)\n\u001b[0;32m--> 700\u001b[0m \u001b[38;5;28;01mreturn\u001b[39;00m \u001b[43mpredict_loop\u001b[49m\u001b[43m(\u001b[49m\n\u001b[1;32m    701\u001b[0m \u001b[43m    \u001b[49m\u001b[43mmodel\u001b[49m\u001b[43m,\u001b[49m\n\u001b[1;32m    702\u001b[0m \u001b[43m    \u001b[49m\u001b[43mx\u001b[49m\u001b[43m,\u001b[49m\n\u001b[1;32m    703\u001b[0m \u001b[43m    \u001b[49m\u001b[43mbatch_size\u001b[49m\u001b[38;5;241;43m=\u001b[39;49m\u001b[43mbatch_size\u001b[49m\u001b[43m,\u001b[49m\n\u001b[1;32m    704\u001b[0m \u001b[43m    \u001b[49m\u001b[43mverbose\u001b[49m\u001b[38;5;241;43m=\u001b[39;49m\u001b[43mverbose\u001b[49m\u001b[43m,\u001b[49m\n\u001b[1;32m    705\u001b[0m \u001b[43m    \u001b[49m\u001b[43msteps\u001b[49m\u001b[38;5;241;43m=\u001b[39;49m\u001b[43msteps\u001b[49m\u001b[43m,\u001b[49m\n\u001b[1;32m    706\u001b[0m \u001b[43m    \u001b[49m\u001b[43mcallbacks\u001b[49m\u001b[38;5;241;43m=\u001b[39;49m\u001b[43mcallbacks\u001b[49m\u001b[43m)\u001b[49m\n",
      "File \u001b[0;32m~/Chestxray/final-year-project-HammadsGit/.venv/lib/python3.10/site-packages/keras/engine/training_arrays_v1.py:178\u001b[0m, in \u001b[0;36mmodel_iteration\u001b[0;34m(model, inputs, targets, sample_weights, batch_size, epochs, verbose, callbacks, val_inputs, val_targets, val_sample_weights, shuffle, initial_epoch, steps_per_epoch, validation_steps, validation_freq, mode, validation_in_fit, prepared_feed_values_from_dataset, steps_name, **kwargs)\u001b[0m\n\u001b[1;32m    173\u001b[0m _update_sample_weight_mode(model, mode, ins)\n\u001b[1;32m    175\u001b[0m \u001b[38;5;66;03m# Get step function and loop type. As part of building the execution\u001b[39;00m\n\u001b[1;32m    176\u001b[0m \u001b[38;5;66;03m# function we recompile the metrics based on the updated\u001b[39;00m\n\u001b[1;32m    177\u001b[0m \u001b[38;5;66;03m# sample_weight_mode value.\u001b[39;00m\n\u001b[0;32m--> 178\u001b[0m f \u001b[38;5;241m=\u001b[39m \u001b[43m_make_execution_function\u001b[49m\u001b[43m(\u001b[49m\u001b[43mmodel\u001b[49m\u001b[43m,\u001b[49m\u001b[43m \u001b[49m\u001b[43mmode\u001b[49m\u001b[43m)\u001b[49m\n\u001b[1;32m    180\u001b[0m \u001b[38;5;66;03m# Prepare validation data. Hold references to the iterator and the input list\u001b[39;00m\n\u001b[1;32m    181\u001b[0m \u001b[38;5;66;03m# to properly reinitialize and reuse in multiple validation passes.\u001b[39;00m\n\u001b[1;32m    182\u001b[0m val_iterator \u001b[38;5;241m=\u001b[39m \u001b[38;5;28;01mNone\u001b[39;00m\n",
      "File \u001b[0;32m~/Chestxray/final-year-project-HammadsGit/.venv/lib/python3.10/site-packages/keras/engine/training_arrays_v1.py:548\u001b[0m, in \u001b[0;36m_make_execution_function\u001b[0;34m(model, mode)\u001b[0m\n\u001b[1;32m    546\u001b[0m \u001b[38;5;28;01mif\u001b[39;00m model\u001b[38;5;241m.\u001b[39m_distribution_strategy:\n\u001b[1;32m    547\u001b[0m   \u001b[38;5;28;01mreturn\u001b[39;00m distributed_training_utils_v1\u001b[38;5;241m.\u001b[39m_make_execution_function(model, mode)\n\u001b[0;32m--> 548\u001b[0m \u001b[38;5;28;01mreturn\u001b[39;00m \u001b[43mmodel\u001b[49m\u001b[38;5;241;43m.\u001b[39;49m\u001b[43m_make_execution_function\u001b[49m\u001b[43m(\u001b[49m\u001b[43mmode\u001b[49m\u001b[43m)\u001b[49m\n",
      "File \u001b[0;32m~/Chestxray/final-year-project-HammadsGit/.venv/lib/python3.10/site-packages/keras/engine/training_v1.py:2079\u001b[0m, in \u001b[0;36mModel._make_execution_function\u001b[0;34m(self, mode)\u001b[0m\n\u001b[1;32m   2077\u001b[0m   \u001b[38;5;28;01mreturn\u001b[39;00m \u001b[38;5;28mself\u001b[39m\u001b[38;5;241m.\u001b[39mtest_function\n\u001b[1;32m   2078\u001b[0m \u001b[38;5;28;01mif\u001b[39;00m mode \u001b[38;5;241m==\u001b[39m ModeKeys\u001b[38;5;241m.\u001b[39mPREDICT:\n\u001b[0;32m-> 2079\u001b[0m   \u001b[38;5;28;43mself\u001b[39;49m\u001b[38;5;241;43m.\u001b[39;49m\u001b[43m_make_predict_function\u001b[49m\u001b[43m(\u001b[49m\u001b[43m)\u001b[49m\n\u001b[1;32m   2080\u001b[0m   \u001b[38;5;28;01mreturn\u001b[39;00m \u001b[38;5;28mself\u001b[39m\u001b[38;5;241m.\u001b[39mpredict_function\n",
      "File \u001b[0;32m~/Chestxray/final-year-project-HammadsGit/.venv/lib/python3.10/site-packages/keras/engine/training_v1.py:2064\u001b[0m, in \u001b[0;36mModel._make_predict_function\u001b[0;34m(self)\u001b[0m\n\u001b[1;32m   2062\u001b[0m kwargs \u001b[38;5;241m=\u001b[39m \u001b[38;5;28mgetattr\u001b[39m(\u001b[38;5;28mself\u001b[39m, \u001b[38;5;124m'\u001b[39m\u001b[38;5;124m_function_kwargs\u001b[39m\u001b[38;5;124m'\u001b[39m, {})\n\u001b[1;32m   2063\u001b[0m \u001b[38;5;28;01mwith\u001b[39;00m backend\u001b[38;5;241m.\u001b[39mname_scope(ModeKeys\u001b[38;5;241m.\u001b[39mPREDICT):\n\u001b[0;32m-> 2064\u001b[0m   \u001b[38;5;28mself\u001b[39m\u001b[38;5;241m.\u001b[39mpredict_function \u001b[38;5;241m=\u001b[39m \u001b[43mbackend\u001b[49m\u001b[38;5;241;43m.\u001b[39;49m\u001b[43mfunction\u001b[49m\u001b[43m(\u001b[49m\n\u001b[1;32m   2065\u001b[0m \u001b[43m      \u001b[49m\u001b[43minputs\u001b[49m\u001b[43m,\u001b[49m\n\u001b[1;32m   2066\u001b[0m \u001b[43m      \u001b[49m\u001b[38;5;28;43mself\u001b[39;49m\u001b[38;5;241;43m.\u001b[39;49m\u001b[43moutputs\u001b[49m\u001b[43m,\u001b[49m\n\u001b[1;32m   2067\u001b[0m \u001b[43m      \u001b[49m\u001b[43mupdates\u001b[49m\u001b[38;5;241;43m=\u001b[39;49m\u001b[38;5;28;43mself\u001b[39;49m\u001b[38;5;241;43m.\u001b[39;49m\u001b[43mstate_updates\u001b[49m\u001b[43m,\u001b[49m\n\u001b[1;32m   2068\u001b[0m \u001b[43m      \u001b[49m\u001b[43mname\u001b[49m\u001b[38;5;241;43m=\u001b[39;49m\u001b[38;5;124;43m'\u001b[39;49m\u001b[38;5;124;43mpredict_function\u001b[39;49m\u001b[38;5;124;43m'\u001b[39;49m\u001b[43m,\u001b[49m\n\u001b[1;32m   2069\u001b[0m \u001b[43m      \u001b[49m\u001b[38;5;241;43m*\u001b[39;49m\u001b[38;5;241;43m*\u001b[39;49m\u001b[43mkwargs\u001b[49m\u001b[43m)\u001b[49m\n",
      "File \u001b[0;32m~/Chestxray/final-year-project-HammadsGit/.venv/lib/python3.10/site-packages/keras/backend.py:4345\u001b[0m, in \u001b[0;36mfunction\u001b[0;34m(inputs, outputs, updates, name, **kwargs)\u001b[0m\n\u001b[1;32m   4342\u001b[0m       msg \u001b[38;5;241m=\u001b[39m (\u001b[38;5;124m'\u001b[39m\u001b[38;5;124mInvalid argument \u001b[39m\u001b[38;5;124m\"\u001b[39m\u001b[38;5;132;01m%s\u001b[39;00m\u001b[38;5;124m\"\u001b[39m\u001b[38;5;124m passed to K.function with TensorFlow \u001b[39m\u001b[38;5;124m'\u001b[39m\n\u001b[1;32m   4343\u001b[0m              \u001b[38;5;124m'\u001b[39m\u001b[38;5;124mbackend\u001b[39m\u001b[38;5;124m'\u001b[39m) \u001b[38;5;241m%\u001b[39m key\n\u001b[1;32m   4344\u001b[0m       \u001b[38;5;28;01mraise\u001b[39;00m \u001b[38;5;167;01mValueError\u001b[39;00m(msg)\n\u001b[0;32m-> 4345\u001b[0m \u001b[38;5;28;01mreturn\u001b[39;00m \u001b[43mGraphExecutionFunction\u001b[49m\u001b[43m(\u001b[49m\n\u001b[1;32m   4346\u001b[0m \u001b[43m    \u001b[49m\u001b[43minputs\u001b[49m\u001b[43m,\u001b[49m\u001b[43m \u001b[49m\u001b[43moutputs\u001b[49m\u001b[43m,\u001b[49m\u001b[43m \u001b[49m\u001b[43mupdates\u001b[49m\u001b[38;5;241;43m=\u001b[39;49m\u001b[43mupdates\u001b[49m\u001b[43m,\u001b[49m\u001b[43m \u001b[49m\u001b[43mname\u001b[49m\u001b[38;5;241;43m=\u001b[39;49m\u001b[43mname\u001b[49m\u001b[43m,\u001b[49m\u001b[43m \u001b[49m\u001b[38;5;241;43m*\u001b[39;49m\u001b[38;5;241;43m*\u001b[39;49m\u001b[43mkwargs\u001b[49m\u001b[43m)\u001b[49m\n",
      "File \u001b[0;32m~/Chestxray/final-year-project-HammadsGit/.venv/lib/python3.10/site-packages/keras/backend.py:4138\u001b[0m, in \u001b[0;36mGraphExecutionFunction.__init__\u001b[0;34m(self, inputs, outputs, updates, name, **session_kwargs)\u001b[0m\n\u001b[1;32m   4133\u001b[0m \u001b[38;5;28mself\u001b[39m\u001b[38;5;241m.\u001b[39moutputs \u001b[38;5;241m=\u001b[39m cast_variables_to_tensor(\n\u001b[1;32m   4134\u001b[0m     tf\u001b[38;5;241m.\u001b[39mnest\u001b[38;5;241m.\u001b[39mflatten(outputs, expand_composites\u001b[38;5;241m=\u001b[39m\u001b[38;5;28;01mTrue\u001b[39;00m))\n\u001b[1;32m   4135\u001b[0m \u001b[38;5;66;03m# TODO(b/127668432): Consider using autograph to generate these\u001b[39;00m\n\u001b[1;32m   4136\u001b[0m \u001b[38;5;66;03m# dependencies in call.\u001b[39;00m\n\u001b[1;32m   4137\u001b[0m \u001b[38;5;66;03m# Index 0 = total loss or model output for `predict`.\u001b[39;00m\n\u001b[0;32m-> 4138\u001b[0m \u001b[38;5;28;01mwith\u001b[39;00m \u001b[43mtf\u001b[49m\u001b[38;5;241;43m.\u001b[39;49m\u001b[43mcontrol_dependencies\u001b[49m\u001b[43m(\u001b[49m\u001b[43m[\u001b[49m\u001b[38;5;28;43mself\u001b[39;49m\u001b[38;5;241;43m.\u001b[39;49m\u001b[43moutputs\u001b[49m\u001b[43m[\u001b[49m\u001b[38;5;241;43m0\u001b[39;49m\u001b[43m]\u001b[49m\u001b[43m]\u001b[49m\u001b[43m)\u001b[49m:\n\u001b[1;32m   4139\u001b[0m   updates_ops \u001b[38;5;241m=\u001b[39m []\n\u001b[1;32m   4140\u001b[0m   \u001b[38;5;28;01mfor\u001b[39;00m update \u001b[38;5;129;01min\u001b[39;00m updates:\n",
      "File \u001b[0;32m~/Chestxray/final-year-project-HammadsGit/.venv/lib/python3.10/site-packages/tensorflow/python/framework/ops.py:5594\u001b[0m, in \u001b[0;36mcontrol_dependencies\u001b[0;34m(control_inputs)\u001b[0m\n\u001b[1;32m   5592\u001b[0m   \u001b[38;5;28;01mreturn\u001b[39;00m NullContextmanager()\n\u001b[1;32m   5593\u001b[0m \u001b[38;5;28;01melse\u001b[39;00m:\n\u001b[0;32m-> 5594\u001b[0m   \u001b[38;5;28;01mreturn\u001b[39;00m \u001b[43mget_default_graph\u001b[49m\u001b[43m(\u001b[49m\u001b[43m)\u001b[49m\u001b[38;5;241;43m.\u001b[39;49m\u001b[43mcontrol_dependencies\u001b[49m\u001b[43m(\u001b[49m\u001b[43mcontrol_inputs\u001b[49m\u001b[43m)\u001b[49m\n",
      "File \u001b[0;32m~/Chestxray/final-year-project-HammadsGit/.venv/lib/python3.10/site-packages/tensorflow/python/framework/ops.py:5048\u001b[0m, in \u001b[0;36mGraph.control_dependencies\u001b[0;34m(self, control_inputs)\u001b[0m\n\u001b[1;32m   5045\u001b[0m \u001b[38;5;28;01mif\u001b[39;00m (\u001b[38;5;28misinstance\u001b[39m(c, IndexedSlices) \u001b[38;5;129;01mor\u001b[39;00m\n\u001b[1;32m   5046\u001b[0m     (\u001b[38;5;28mhasattr\u001b[39m(c, \u001b[38;5;124m\"\u001b[39m\u001b[38;5;124m_handle\u001b[39m\u001b[38;5;124m\"\u001b[39m) \u001b[38;5;129;01mand\u001b[39;00m \u001b[38;5;28mhasattr\u001b[39m(c, \u001b[38;5;124m\"\u001b[39m\u001b[38;5;124mop\u001b[39m\u001b[38;5;124m\"\u001b[39m))):\n\u001b[1;32m   5047\u001b[0m   c \u001b[38;5;241m=\u001b[39m c\u001b[38;5;241m.\u001b[39mop\n\u001b[0;32m-> 5048\u001b[0m c \u001b[38;5;241m=\u001b[39m \u001b[38;5;28;43mself\u001b[39;49m\u001b[38;5;241;43m.\u001b[39;49m\u001b[43mas_graph_element\u001b[49m\u001b[43m(\u001b[49m\u001b[43mc\u001b[49m\u001b[43m)\u001b[49m\n\u001b[1;32m   5049\u001b[0m \u001b[38;5;28;01mif\u001b[39;00m \u001b[38;5;28misinstance\u001b[39m(c, Tensor):\n\u001b[1;32m   5050\u001b[0m   c \u001b[38;5;241m=\u001b[39m c\u001b[38;5;241m.\u001b[39mop\n",
      "File \u001b[0;32m~/Chestxray/final-year-project-HammadsGit/.venv/lib/python3.10/site-packages/tensorflow/python/framework/ops.py:3952\u001b[0m, in \u001b[0;36mGraph.as_graph_element\u001b[0;34m(self, obj, allow_tensor, allow_operation)\u001b[0m\n\u001b[1;32m   3949\u001b[0m   \u001b[38;5;28;01mreturn\u001b[39;00m \u001b[38;5;28mself\u001b[39m\u001b[38;5;241m.\u001b[39m_as_graph_element_locked(obj, allow_tensor, allow_operation)\n\u001b[1;32m   3951\u001b[0m \u001b[38;5;28;01mwith\u001b[39;00m \u001b[38;5;28mself\u001b[39m\u001b[38;5;241m.\u001b[39m_lock:\n\u001b[0;32m-> 3952\u001b[0m   \u001b[38;5;28;01mreturn\u001b[39;00m \u001b[38;5;28;43mself\u001b[39;49m\u001b[38;5;241;43m.\u001b[39;49m\u001b[43m_as_graph_element_locked\u001b[49m\u001b[43m(\u001b[49m\u001b[43mobj\u001b[49m\u001b[43m,\u001b[49m\u001b[43m \u001b[49m\u001b[43mallow_tensor\u001b[49m\u001b[43m,\u001b[49m\u001b[43m \u001b[49m\u001b[43mallow_operation\u001b[49m\u001b[43m)\u001b[49m\n",
      "File \u001b[0;32m~/Chestxray/final-year-project-HammadsGit/.venv/lib/python3.10/site-packages/tensorflow/python/framework/ops.py:4031\u001b[0m, in \u001b[0;36mGraph._as_graph_element_locked\u001b[0;34m(self, obj, allow_tensor, allow_operation)\u001b[0m\n\u001b[1;32m   4028\u001b[0m \u001b[38;5;28;01melif\u001b[39;00m \u001b[38;5;28misinstance\u001b[39m(obj, Tensor) \u001b[38;5;129;01mand\u001b[39;00m allow_tensor:\n\u001b[1;32m   4029\u001b[0m   \u001b[38;5;66;03m# Actually obj is just the object it's referring to.\u001b[39;00m\n\u001b[1;32m   4030\u001b[0m   \u001b[38;5;28;01mif\u001b[39;00m obj\u001b[38;5;241m.\u001b[39mgraph \u001b[38;5;129;01mis\u001b[39;00m \u001b[38;5;129;01mnot\u001b[39;00m \u001b[38;5;28mself\u001b[39m:\n\u001b[0;32m-> 4031\u001b[0m     \u001b[38;5;28;01mraise\u001b[39;00m \u001b[38;5;167;01mValueError\u001b[39;00m(\u001b[38;5;124m\"\u001b[39m\u001b[38;5;124mTensor \u001b[39m\u001b[38;5;132;01m%s\u001b[39;00m\u001b[38;5;124m is not an element of this graph.\u001b[39m\u001b[38;5;124m\"\u001b[39m \u001b[38;5;241m%\u001b[39m obj)\n\u001b[1;32m   4032\u001b[0m   \u001b[38;5;28;01mreturn\u001b[39;00m obj\n\u001b[1;32m   4033\u001b[0m \u001b[38;5;28;01melif\u001b[39;00m \u001b[38;5;28misinstance\u001b[39m(obj, Operation) \u001b[38;5;129;01mand\u001b[39;00m allow_operation:\n\u001b[1;32m   4034\u001b[0m   \u001b[38;5;66;03m# Actually obj is just the object it's referring to.\u001b[39;00m\n",
      "\u001b[0;31mValueError\u001b[0m: Tensor Tensor(\"dense_19/Sigmoid:0\", shape=(None, 14), dtype=float32) is not an element of this graph."
     ]
    }
   ],
   "source": [
    "# code to predict a single file\n",
    "K.clear_session()\n",
    "from keras.utils import load_img, img_to_array\n",
    "from keras.models import load_model\n",
    "import numpy as np\n",
    "import tensorflow as tf\n",
    "\n",
    "\n",
    "\n",
    "# Function to prepare the image\n",
    "def prepare_image(image_path, target_size):\n",
    "    img = load_img(image_path, target_size=target_size)\n",
    "    img_array = img_to_array(img)\n",
    "    img_array_expanded_dims = np.expand_dims(img_array, axis=0)\n",
    "    return img_array_expanded_dims / 255.\n",
    "\n",
    "# Replace 'path/to/your/image' with the path to the image you want to predict on\n",
    "img_path = 'archive/images/00018494_008.png'\n",
    "# pick a random image from the test data\n",
    "\n",
    "prepared_img = prepare_image(img_path, target_size=(320, 320))\n",
    "# K.clear_session()\n",
    "\n",
    "predictions = model.predict(prepared_img)\n",
    "\n",
    "print(predictions)\n",
    "\n",
    "# Assuming your model predicts probabilities for each class\n",
    "# and you have a list of class labels\n",
    "labels = ['Cardiomegaly', 'Emphysema', 'Effusion', 'Hernia', 'Infiltration', 'Mass', 'Nodule', 'Atelectasis', 'Pneumothorax', 'Pleural_Thickening', 'Pneumonia', 'Fibrosis', 'Edema', 'Consolidation']\n",
    "\n",
    "\n",
    "# Print predictions for each label\n",
    "for label, prediction in zip(labels, predictions[0]):\n",
    "    print(f\"{label}: {prediction*100:.2f}%\")"
   ]
  },
  {
   "cell_type": "code",
   "execution_count": null,
   "metadata": {},
   "outputs": [],
   "source": [
    "# creating file for the predictions\n",
    "\n",
    "filenames = test_generator.filenames\n",
    "true_labels = test_generator.labels\n",
    "predicted_vals = predicted_vals  # This assumes 'predicted_vals' is already defined and contains predictions from your model\n",
    "\n",
    "# Convert true labels to a DataFrame\n",
    "df_labels = pd.DataFrame(true_labels, columns=labels)\n",
    "\n",
    "# Add the image filenames to the DataFrame\n",
    "df_labels['Image'] = filenames\n",
    "\n",
    "\n",
    "df_labels['Hello'] = 1\n",
    "\n",
    "# Convert predicted probabilities to a DataFrame\n",
    "df_predictions = pd.DataFrame(predicted_vals, columns=[f\"{label}_pred\" for label in labels])\n",
    "\n",
    "# Concatenate the true labels and predicted probabilities DataFrames\n",
    "df_combined = pd.concat([df_labels, df_predictions], axis=1)\n",
    "\n",
    "# Ensure the filenames are the first column\n",
    "df_combined = df_combined[['Image'] + [col for col in df_combined.columns if col != 'Image']]\n",
    "\n",
    "# Save the combined DataFrame to a CSV file\n",
    "df_combined.to_csv('test_pred.csv', index=False)\n"
   ]
  },
  {
   "cell_type": "code",
   "execution_count": null,
   "metadata": {},
   "outputs": [],
   "source": [
    "import pandas as pd\n",
    "labels = ['Cardiomegaly', \n",
    "          'Emphysema', \n",
    "          'Effusion', \n",
    "          'Hernia', \n",
    "          'Infiltration', \n",
    "          'Mass', \n",
    "          'Nodule', \n",
    "          'Atelectasis',\n",
    "          'Pneumothorax',\n",
    "          'Pleural_Thickening', \n",
    "          'Pneumonia', \n",
    "          'Fibrosis', \n",
    "          'Edema', \n",
    "          'Consolidation']\n",
    "\n",
    "test_results = pd.read_csv(\"test_pred 17.51.25.csv\")\n",
    "pred_labels = [l + \"_pred\" for l in labels]\n",
    "\n"
   ]
  },
  {
   "cell_type": "code",
   "execution_count": null,
   "metadata": {},
   "outputs": [],
   "source": [
    "y = test_results[labels].values\n",
    "pred = test_results[pred_labels].values"
   ]
  },
  {
   "cell_type": "code",
   "execution_count": null,
   "metadata": {},
   "outputs": [],
   "source": [
    "import matplotlib.pyplot as plt\n",
    "from sklearn.metrics import average_precision_score, precision_recall_curve, roc_auc_score, roc_curve\n",
    "\n",
    "def get_curve(true_labels, predictions, labels_names, curve_type='roc'):\n",
    "    fig, ax = plt.subplots(figsize=(7, 7))  # Use ax for plotting\n",
    "\n",
    "    plot_funcs = {\n",
    "        'roc': lambda y_true, y_pred: (\n",
    "            roc_curve(y_true, y_pred),\n",
    "            {'label': f\"{labels_names[i]} AUC: {roc_auc_score(y_true, y_pred):.3f}\"}\n",
    "        ),\n",
    "        'prc': lambda y_true, y_pred: (\n",
    "            precision_recall_curve(y_true, y_pred),\n",
    "            {'label': f\"{labels_names[i]} Avg. Prec.: {average_precision_score(y_true, y_pred):.3f}\", 'where': 'post'}\n",
    "        )\n",
    "    }\n",
    "    \n",
    "    for i in range(len(labels_names)):\n",
    "        scores, plot_args = plot_funcs[curve_type](true_labels[:, i], predictions[:, i])\n",
    "        if curve_type == 'roc':\n",
    "            fpr, tpr, _ = scores\n",
    "            ax.plot(fpr, tpr, **plot_args)\n",
    "        else:\n",
    "            precision, recall, _ = scores\n",
    "            ax.step(recall, precision, **plot_args)\n",
    "            \n",
    "    # Adding 'Chance' line for ROC\n",
    "    if curve_type == 'roc':\n",
    "        ax.plot([0, 1], [0, 1], 'k--', label='Chance')\n",
    "        \n",
    "    ax.set_xlabel(\"False Positive Rate\" if curve_type == 'roc' else 'Recall')\n",
    "    ax.set_ylabel(\"True Positive Rate\" if curve_type == 'roc' else 'Precision')\n",
    "    ax.set_title(f\"{curve_type.upper()} Curve\")\n",
    "    ax.legend(loc='upper center', bbox_to_anchor=(1.3, 1), fancybox=True, ncol=1)\n",
    "    plt.show()"
   ]
  },
  {
   "cell_type": "code",
   "execution_count": null,
   "metadata": {},
   "outputs": [],
   "source": [
    "get_curve(y, pred, labels, curve_type='roc')"
   ]
  },
  {
   "cell_type": "code",
   "execution_count": null,
   "metadata": {},
   "outputs": [],
   "source": [
    "import matplotlib.pyplot as plt\n",
    "plt.xticks(rotation=90)\n",
    "plt.bar(x = labels, height= y.sum(axis=0));"
   ]
  },
  {
   "cell_type": "code",
   "execution_count": null,
   "metadata": {},
   "outputs": [],
   "source": []
  },
  {
   "cell_type": "code",
   "execution_count": null,
   "metadata": {},
   "outputs": [],
   "source": [
    "def true_positives(y, pred, th=0.5):\n",
    "    TP = 0\n",
    "    thresholded_preds = pred >= th\n",
    "    TP = np.sum((y == 1) & (thresholded_preds == 1))\n",
    "    \n",
    "    return TP\n",
    "\n",
    "def true_negatives(y, pred, th=0.5):\n",
    "    thresholded_preds = pred < th  # Prediction is negative if below threshold\n",
    "    TN = np.sum((y == 0) & (thresholded_preds == True))  # Both ground truth and prediction are negative\n",
    "    return TN\n",
    "\n",
    "\n",
    "def false_positives(y, pred, th=0.5):\n",
    "    thresholded_preds = pred >= th  # Prediction is positive if equal to or above threshold\n",
    "    FP = np.sum((y == 0) & (thresholded_preds == True))  # Ground truth is negative but prediction is positive\n",
    "    return FP\n",
    "\n",
    "\n",
    "def false_negatives(y, pred, th=0.5):\n",
    "    thresholded_preds = pred < th  # Prediction is negative if below threshold\n",
    "    FN = np.sum((y == 1) & (thresholded_preds == True))  # Ground truth is positive but prediction is negative\n",
    "    return FN\n",
    "\n",
    "def get_accuracy(y, pred, th=0.5):\n",
    "    accuracy = 0.0\n",
    "    \n",
    "    # Threshold predictions to get binary outcomes\n",
    "    thresholded_preds = pred >= th\n",
    "    \n",
    "    # Calculate TP, FP, TN, FN\n",
    "    TP = np.sum((y == 1) & (thresholded_preds == 1))\n",
    "    FP = np.sum((y == 0) & (thresholded_preds == 1))\n",
    "    TN = np.sum((y == 0) & (thresholded_preds == 0))\n",
    "    FN = np.sum((y == 1) & (thresholded_preds == 0))\n",
    "\n",
    "    # Compute accuracy using TP, FP, TN, FN\n",
    "    accuracy = (TP + TN) / (TP + FP + TN + FN)\n",
    "    \n",
    "    return accuracy\n",
    "\n",
    "def get_prevalence(y):\n",
    "    prevalence = 0.0\n",
    "    \n",
    "    prevalence = np.sum(y == 1) / len(y)\n",
    "    \n",
    "    return prevalence"
   ]
  },
  {
   "cell_type": "code",
   "execution_count": null,
   "metadata": {},
   "outputs": [],
   "source": [
    "true_positives(y, pred), false_positives(y, pred), false_negatives(y, pred), true_negatives(y, pred)\n",
    "\n",
    "accuracy = (true_positives(y, pred) + true_negatives(y, pred)) / (y.shape[0] * y.shape[1])\n",
    "\n",
    "print(accuracy * 100)"
   ]
  },
  {
   "cell_type": "code",
   "execution_count": null,
   "metadata": {},
   "outputs": [],
   "source": [
    "get_curve(y, pred, labels, curve_type='roc')"
   ]
  },
  {
   "cell_type": "code",
   "execution_count": null,
   "metadata": {},
   "outputs": [],
   "source": [
    "from sklearn.calibration import calibration_curve\n",
    "def plot_calibration_curve(y, pred):\n",
    "    plt.figure(figsize=(20, 20))\n",
    "    for i in range(len(labels)):\n",
    "        plt.subplot(4, 4, i + 1)\n",
    "        fraction_of_positives, mean_predicted_value = calibration_curve(y[:,i], pred[:,i], n_bins=20)\n",
    "        plt.plot([0, 1], [0, 1], linestyle='--')\n",
    "        plt.plot(mean_predicted_value, fraction_of_positives, marker='.')\n",
    "        plt.xlabel(\"Predicted Value\")\n",
    "        plt.ylabel(\"Fraction of Positives\")\n",
    "        plt.title(labels[i])\n",
    "    plt.tight_layout()\n",
    "    plt.show()"
   ]
  },
  {
   "cell_type": "code",
   "execution_count": null,
   "metadata": {},
   "outputs": [],
   "source": [
    "plot_calibration_curve(y, pred)"
   ]
  },
  {
   "cell_type": "code",
   "execution_count": null,
   "metadata": {},
   "outputs": [],
   "source": [
    "from sklearn.linear_model import LogisticRegression as LR \n",
    "\n",
    "\n",
    "pred_calibrated = np.zeros_like(pred)\n",
    "\n",
    "for i in range(len(labels)):\n",
    "    lr = LR(solver='liblinear', max_iter=10000)\n",
    "    lr.fit(pred[:, i].reshape(-1, 1), y[:, i])    \n",
    "    pred_calibrated[:, i] = lr.predict_proba(pred[:, i].reshape(-1, 1))[:,1]\n",
    "    "
   ]
  },
  {
   "cell_type": "code",
   "execution_count": null,
   "metadata": {},
   "outputs": [],
   "source": [
    "plot_calibration_curve(y[:,], pred_calibrated)"
   ]
  },
  {
   "cell_type": "code",
   "execution_count": null,
   "metadata": {},
   "outputs": [],
   "source": [
    "import numpy as np\n",
    "import pandas as pd\n",
    "from sklearn.metrics import roc_auc_score, f1_score, accuracy_score\n",
    "\n",
    "def calculate_metrics(y_true, y_pred, threshold=0.5):\n",
    "    \"\"\"\n",
    "    Calculate performance metrics based on binary classification outcomes.\n",
    "    \"\"\"\n",
    "    TP = np.sum((y_true == 1) & (y_pred >= threshold))\n",
    "    TN = np.sum((y_true == 0) & (y_pred < threshold))\n",
    "    FP = np.sum((y_true == 0) & (y_pred >= threshold))\n",
    "    FN = np.sum((y_true == 1) & (y_pred < threshold))\n",
    "\n",
    "    Accuracy = (TP + TN) / (TP + TN + FP + FN)\n",
    "    Sensitivity = TP / (TP + FN) if TP + FN > 0 else 0  # Also known as Recall\n",
    "    Specificity = TN / (TN + FP) if TN + FP > 0 else 0\n",
    "    PPV = TP / (TP + FP) if TP + FP > 0 else 0  # Also known as Precision\n",
    "    NPV = TN / (TN + FN) if TN + FN > 0 else 0\n",
    "    Prevalence = np.sum(y_true == 1) / len(y_true)\n",
    "    AUC = roc_auc_score(y_true, y_pred)\n",
    "    F1 = f1_score(y_true, y_pred >= threshold)\n",
    "\n",
    "    return TP, TN, FP, FN, Accuracy, Prevalence, Sensitivity, Specificity, PPV, NPV, AUC, F1\n",
    "\n",
    "def get_performance_metrics(y, pred, class_labels, thresholds=[]):\n",
    "    if len(thresholds) != len(class_labels):\n",
    "        thresholds = [.5] * len(class_labels)\n",
    "    \n",
    "    metrics_dict = {\"\": class_labels}\n",
    "    metrics_list = [\"Accuracy\", \"Prevalence\", \"Sensitivity\", \"Specificity\", \"PPV\", \"NPV\",\"F1\", \"Threshold\"]\n",
    "    \n",
    "    for metric in metrics_list:\n",
    "        metrics_dict[metric] = []\n",
    "    \n",
    "    for i, label in enumerate(class_labels):\n",
    "        TP, TN, FP, FN, Accuracy, Prevalence, Sensitivity, Specificity, PPV, NPV, AUC, F1 = calculate_metrics(y[:, i], pred[:, i], thresholds[i])\n",
    "        values = [Accuracy, Prevalence, Sensitivity, Specificity, PPV, NPV, F1, thresholds[i]]\n",
    "        rounded_values = [round(value, 3) if isinstance(value, float) else value for value in values]\n",
    "        for metric, value in zip(metrics_list, rounded_values):\n",
    "            metrics_dict[metric].append(value)\n",
    "    \n",
    "    # make the dataframe background white\n",
    "    df = pd.DataFrame(metrics_dict).set_index(\"\")\n",
    "    return df\n",
    "    # return pd.DataFrame(metrics_dict).set_index(\"\")"
   ]
  },
  {
   "cell_type": "code",
   "execution_count": null,
   "metadata": {},
   "outputs": [],
   "source": [
    "get_performance_metrics(y, pred, labels)\n",
    "\n",
    "# get average performance metrics\n",
    "\n"
   ]
  },
  {
   "cell_type": "code",
   "execution_count": null,
   "metadata": {},
   "outputs": [],
   "source": [
    "from keras.applications.resnet import ResNet50\n",
    "from keras.layers import GlobalAveragePooling2D, Dense\n",
    "from keras.models import Model\n",
    "from keras.optimizers import Adam\n",
    "\n",
    "# Load the ResNet50 model pre-trained on ImageNet data\n",
    "base_model = ResNet50(weights='imagenet', include_top=False)\n",
    "\n",
    "\n",
    "# Add new layers for the classification task\n",
    "x = base_model.output\n",
    "x = GlobalAveragePooling2D()(x)  # Add a global spatial average pooling layer\n",
    "x = Dense(1024, activation='relu')(x)  # Add a fully-connected layer\n",
    "predictions = Dense(len(labels), activation='sigmoid')(x) \n",
    "\n",
    "\n",
    "\n",
    "# This is the model we will train\n",
    "model = Model(inputs=base_model.input, outputs=predictions)\n",
    "\n",
    "\n",
    "# Compile the model\n",
    "model.compile(optimizer='adam', loss=get_weighted_loss(pos_weights, neg_weights))\n",
    "\n",
    "# View the structure of the model\n",
    "model.summary()"
   ]
  },
  {
   "cell_type": "code",
   "execution_count": null,
   "metadata": {},
   "outputs": [],
   "source": [
    "from keras.callbacks import EarlyStopping, ModelCheckpoint, ReduceLROnPlateau\n",
    "\n",
    "# Define early stopping callback\n",
    "early_stopping = EarlyStopping(\n",
    "    monitor='val_loss',  # Monitor validation loss\n",
    "    patience=5,  # Number of epochs with no improvement after which training will be stopped\n",
    "    verbose=1,\n",
    "    restore_best_weights=True  # Restores model weights from the epoch with the best value of the monitored quantity\n",
    ")\n",
    "\n",
    "# Define model checkpoint callback\n",
    "model_checkpoint = ModelCheckpoint(\n",
    "    'ResNet_Model.h5',  # Path where to save the model\n",
    "    monitor='val_loss',\n",
    "    verbose=1,\n",
    "    save_best_only=True  # Only save a model if `val_loss` has improved\n",
    ")\n",
    "\n",
    "# Define reduce learning rate callback\n",
    "reduce_lr = ReduceLROnPlateau(\n",
    "    monitor='val_loss',\n",
    "    factor=0.1,  # Reduction factor (new_lr = lr * factor)\n",
    "    patience=2,  # Number of epochs with no improvement after which learning rate will be reduced\n",
    "    verbose=1\n",
    ")"
   ]
  },
  {
   "cell_type": "code",
   "execution_count": null,
   "metadata": {},
   "outputs": [],
   "source": [
    "history = model.fit(train_generator, \n",
    "                              validation_data=valid_generator,\n",
    "                              steps_per_epoch=100, \n",
    "                              validation_steps=25, \n",
    "                              epochs = 3, callbacks=[early_stopping, model_checkpoint, reduce_lr])\n",
    "\n",
    "\n",
    "plt.plot(history.history['loss'])\n",
    "plt.ylabel(\"loss\")\n",
    "plt.xlabel(\"epoch\")\n",
    "plt.title(\"Training Loss Curve\")\n",
    "plt.show()"
   ]
  },
  {
   "cell_type": "code",
   "execution_count": null,
   "metadata": {},
   "outputs": [],
   "source": [
    "from sklearn.model_selection import GridSearchCV\n",
    "# Define the hyperparameters to tune\n",
    "param_grid = {\n",
    "    'optimizer': ['adam', 'sgd', 'rmsprop'],\n",
    "    'activation': ['relu', 'tanh'],\n",
    "    'batch_size': [16, 32, 64],\n",
    "    'epochs': [10, 20, 30]\n",
    "}\n",
    "\n",
    "# Use GridSearchCV to find the best combination of hyperparameters\n",
    "grid = GridSearchCV(estimator=model, param_grid=param_grid, cv=3, scoring=\"accuracy\")\n",
    "grid_result = grid.fit(train_generator, validation_data=valid_generator)"
   ]
  },
  {
   "cell_type": "code",
   "execution_count": null,
   "metadata": {},
   "outputs": [],
   "source": [
    "predicted_vals = model.predict_generator(test_generator, steps = len(test_generator))"
   ]
  },
  {
   "cell_type": "code",
   "execution_count": null,
   "metadata": {},
   "outputs": [],
   "source": [
    "# creating file for the predictions\n",
    "\n",
    "filenames = test_generator.filenames\n",
    "true_labels = test_generator.labels\n",
    "predicted_vals = predicted_vals  # This assumes 'predicted_vals' is already defined and contains predictions from your model\n",
    "\n",
    "# Convert true labels to a DataFrame\n",
    "df_labels = pd.DataFrame(true_labels, columns=labels)\n",
    "\n",
    "# Add the image filenames to the DataFrame\n",
    "df_labels['Image'] = filenames\n",
    "\n",
    "\n",
    "df_labels['Hello'] = 1\n",
    "\n",
    "# Convert predicted probabilities to a DataFrame\n",
    "df_predictions = pd.DataFrame(predicted_vals, columns=[f\"{label}_pred\" for label in labels])\n",
    "\n",
    "# Concatenate the true labels and predicted probabilities DataFrames\n",
    "df_combined = pd.concat([df_labels, df_predictions], axis=1)\n",
    "\n",
    "# Ensure the filenames are the first column\n",
    "df_combined = df_combined[['Image'] + [col for col in df_combined.columns if col != 'Image']]\n",
    "\n",
    "# Save the combined DataFrame to a CSV file\n",
    "df_combined.to_csv('test_pred.csv', index=False)\n"
   ]
  },
  {
   "cell_type": "code",
   "execution_count": null,
   "metadata": {},
   "outputs": [],
   "source": [
    "import pandas as pd\n",
    "labels = ['Cardiomegaly', \n",
    "          'Emphysema', \n",
    "          'Effusion', \n",
    "          'Hernia', \n",
    "          'Infiltration', \n",
    "          'Mass', \n",
    "          'Nodule', \n",
    "          'Atelectasis',\n",
    "          'Pneumothorax',\n",
    "          'Pleural_Thickening', \n",
    "          'Pneumonia', \n",
    "          'Fibrosis', \n",
    "          'Edema', \n",
    "          'Consolidation']\n",
    "\n",
    "test_results = pd.read_csv(\"test_pred 17.51.25.csv\")\n",
    "pred_labels = [l + \"_pred\" for l in labels]\n",
    "\n",
    "y = test_results[labels].values\n",
    "pred = test_results[pred_labels].values"
   ]
  },
  {
   "cell_type": "code",
   "execution_count": null,
   "metadata": {},
   "outputs": [],
   "source": [
    "get_curve(y, pred, labels, curve_type='roc')"
   ]
  }
 ],
 "metadata": {
  "kernelspec": {
   "display_name": "Python 3 (ipykernel)",
   "language": "python",
   "name": "python3"
  },
  "language_info": {
   "codemirror_mode": {
    "name": "ipython",
    "version": 3
   },
   "file_extension": ".py",
   "mimetype": "text/x-python",
   "name": "python",
   "nbconvert_exporter": "python",
   "pygments_lexer": "ipython3",
   "version": "3.10.9"
  }
 },
 "nbformat": 4,
 "nbformat_minor": 4
}
